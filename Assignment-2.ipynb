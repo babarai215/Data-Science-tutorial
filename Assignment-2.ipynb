{
 "cells": [
  {
   "cell_type": "markdown",
   "id": "83cf1ddd",
   "metadata": {},
   "source": [
    "* 1.Look at the data given below. Plot the data, find the outliers and find out  µ,σ, σ2\n",
    "\n",
    "\n"
   ]
  },
  {
   "cell_type": "code",
   "execution_count": 3,
   "id": "19ee355a",
   "metadata": {},
   "outputs": [
    {
     "data": {
      "text/html": [
       "<div>\n",
       "<style scoped>\n",
       "    .dataframe tbody tr th:only-of-type {\n",
       "        vertical-align: middle;\n",
       "    }\n",
       "\n",
       "    .dataframe tbody tr th {\n",
       "        vertical-align: top;\n",
       "    }\n",
       "\n",
       "    .dataframe thead th {\n",
       "        text-align: right;\n",
       "    }\n",
       "</style>\n",
       "<table border=\"1\" class=\"dataframe\">\n",
       "  <thead>\n",
       "    <tr style=\"text-align: right;\">\n",
       "      <th></th>\n",
       "      <th>Name of company</th>\n",
       "      <th>Measure X</th>\n",
       "    </tr>\n",
       "  </thead>\n",
       "  <tbody>\n",
       "    <tr>\n",
       "      <th>0</th>\n",
       "      <td>Allied Signal</td>\n",
       "      <td>0.2423</td>\n",
       "    </tr>\n",
       "    <tr>\n",
       "      <th>1</th>\n",
       "      <td>Bankers Trust</td>\n",
       "      <td>0.2553</td>\n",
       "    </tr>\n",
       "    <tr>\n",
       "      <th>2</th>\n",
       "      <td>General Mills</td>\n",
       "      <td>0.2541</td>\n",
       "    </tr>\n",
       "    <tr>\n",
       "      <th>3</th>\n",
       "      <td>ITT Industries</td>\n",
       "      <td>0.2414</td>\n",
       "    </tr>\n",
       "    <tr>\n",
       "      <th>4</th>\n",
       "      <td>J.P.Morgan &amp; Co.</td>\n",
       "      <td>0.2962</td>\n",
       "    </tr>\n",
       "    <tr>\n",
       "      <th>5</th>\n",
       "      <td>Lehman Brothers</td>\n",
       "      <td>0.2825</td>\n",
       "    </tr>\n",
       "    <tr>\n",
       "      <th>6</th>\n",
       "      <td>Marriott</td>\n",
       "      <td>0.2581</td>\n",
       "    </tr>\n",
       "    <tr>\n",
       "      <th>7</th>\n",
       "      <td>MCI</td>\n",
       "      <td>0.2439</td>\n",
       "    </tr>\n",
       "    <tr>\n",
       "      <th>8</th>\n",
       "      <td>Merrill Lynch</td>\n",
       "      <td>0.4026</td>\n",
       "    </tr>\n",
       "    <tr>\n",
       "      <th>9</th>\n",
       "      <td>Microsoft</td>\n",
       "      <td>0.3295</td>\n",
       "    </tr>\n",
       "    <tr>\n",
       "      <th>10</th>\n",
       "      <td>Morgan Stanley</td>\n",
       "      <td>0.9136</td>\n",
       "    </tr>\n",
       "    <tr>\n",
       "      <th>11</th>\n",
       "      <td>Sun Microsystems</td>\n",
       "      <td>0.2599</td>\n",
       "    </tr>\n",
       "    <tr>\n",
       "      <th>12</th>\n",
       "      <td>Travelers</td>\n",
       "      <td>0.3942</td>\n",
       "    </tr>\n",
       "    <tr>\n",
       "      <th>13</th>\n",
       "      <td>US Airways</td>\n",
       "      <td>0.2671</td>\n",
       "    </tr>\n",
       "    <tr>\n",
       "      <th>14</th>\n",
       "      <td>Warner-Lambert</td>\n",
       "      <td>0.3500</td>\n",
       "    </tr>\n",
       "  </tbody>\n",
       "</table>\n",
       "</div>"
      ],
      "text/plain": [
       "     Name of company  Measure X\n",
       "0      Allied Signal     0.2423\n",
       "1      Bankers Trust     0.2553\n",
       "2      General Mills     0.2541\n",
       "3     ITT Industries     0.2414\n",
       "4   J.P.Morgan & Co.     0.2962\n",
       "5    Lehman Brothers     0.2825\n",
       "6           Marriott     0.2581\n",
       "7                MCI     0.2439\n",
       "8      Merrill Lynch     0.4026\n",
       "9          Microsoft     0.3295\n",
       "10    Morgan Stanley     0.9136\n",
       "11  Sun Microsystems     0.2599\n",
       "12         Travelers     0.3942\n",
       "13        US Airways     0.2671\n",
       "14    Warner-Lambert     0.3500"
      ]
     },
     "execution_count": 3,
     "metadata": {},
     "output_type": "execute_result"
    }
   ],
   "source": [
    "import pandas as pd\n",
    "import numpy as np \n",
    "import matplotlib.pyplot as plt\n",
    "import seaborn as sns\n",
    "\n",
    "df=pd.DataFrame({'Name of company':['Allied Signal','Bankers Trust','General Mills','ITT Industries','J.P.Morgan & Co.',\n",
    "             'Lehman Brothers','Marriott','MCI','Merrill Lynch','Microsoft','Morgan Stanley','Sun Microsystems',\n",
    "                                 'Travelers','US Airways','Warner-Lambert'],'Measure X':[0.2423,0.2553,0.2541,0.2414,0.2962,\n",
    "                                     0.2825,0.2581,0.2439,0.4026,0.3295,0.9136,0.2599,0.3942,0.2671,0.35]})\n",
    "df            # here we have dataframe and then calculated "
   ]
  },
  {
   "cell_type": "code",
   "execution_count": 8,
   "id": "0bb24579",
   "metadata": {},
   "outputs": [
    {
     "data": {
      "image/png": "[encoded data removed]",
      "text/plain": [
       "<Figure size 432x288 with 1 Axes>"
      ]
     },
     "metadata": {
      "needs_background": "light"
     },
     "output_type": "display_data"
    }
   ],
   "source": [
    "data =df['Measure X']\n",
    "data1= plt.boxplot(data)    # by box we have seen here only one outlier in this data "
   ]
  },
  {
   "cell_type": "code",
   "execution_count": 10,
   "id": "96967f15",
   "metadata": {},
   "outputs": [
    {
     "data": {
      "text/plain": [
       "dict"
      ]
     },
     "execution_count": 10,
     "metadata": {},
     "output_type": "execute_result"
    }
   ],
   "source": [
    "type(data1) # here type of data is dict oterwise we can not find outlier by for loop  "
   ]
  },
  {
   "cell_type": "code",
   "execution_count": 13,
   "id": "d1f10907",
   "metadata": {},
   "outputs": [
    {
     "name": "stdout",
     "output_type": "stream",
     "text": [
      "[0.9136]\n"
     ]
    }
   ],
   "source": [
    "for i in data1['fliers']:  # here fliers are outliers    , here we have calculated outlier value \n",
    "    print(i.get_ydata())"
   ]
  },
  {
   "cell_type": "code",
   "execution_count": 33,
   "id": "6c211749",
   "metadata": {},
   "outputs": [
    {
     "data": {
      "text/html": [
       "<div>\n",
       "<style scoped>\n",
       "    .dataframe tbody tr th:only-of-type {\n",
       "        vertical-align: middle;\n",
       "    }\n",
       "\n",
       "    .dataframe tbody tr th {\n",
       "        vertical-align: top;\n",
       "    }\n",
       "\n",
       "    .dataframe thead th {\n",
       "        text-align: right;\n",
       "    }\n",
       "</style>\n",
       "<table border=\"1\" class=\"dataframe\">\n",
       "  <thead>\n",
       "    <tr style=\"text-align: right;\">\n",
       "      <th></th>\n",
       "      <th>Measure X</th>\n",
       "    </tr>\n",
       "  </thead>\n",
       "  <tbody>\n",
       "    <tr>\n",
       "      <th>count</th>\n",
       "      <td>15.000000</td>\n",
       "    </tr>\n",
       "    <tr>\n",
       "      <th>mean</th>\n",
       "      <td>0.332713</td>\n",
       "    </tr>\n",
       "    <tr>\n",
       "      <th>std</th>\n",
       "      <td>0.169454</td>\n",
       "    </tr>\n",
       "    <tr>\n",
       "      <th>min</th>\n",
       "      <td>0.241400</td>\n",
       "    </tr>\n",
       "    <tr>\n",
       "      <th>25%</th>\n",
       "      <td>0.254700</td>\n",
       "    </tr>\n",
       "    <tr>\n",
       "      <th>50%</th>\n",
       "      <td>0.267100</td>\n",
       "    </tr>\n",
       "    <tr>\n",
       "      <th>75%</th>\n",
       "      <td>0.339750</td>\n",
       "    </tr>\n",
       "    <tr>\n",
       "      <th>max</th>\n",
       "      <td>0.913600</td>\n",
       "    </tr>\n",
       "  </tbody>\n",
       "</table>\n",
       "</div>"
      ],
      "text/plain": [
       "       Measure X\n",
       "count  15.000000\n",
       "mean    0.332713\n",
       "std     0.169454\n",
       "min     0.241400\n",
       "25%     0.254700\n",
       "50%     0.267100\n",
       "75%     0.339750\n",
       "max     0.913600"
      ]
     },
     "execution_count": 33,
     "metadata": {},
     "output_type": "execute_result"
    }
   ],
   "source": [
    "df.describe()  # here by this command we have calculated multiple things as mean, standard deviation , count etc"
   ]
  },
  {
   "cell_type": "code",
   "execution_count": 32,
   "id": "6e048bff",
   "metadata": {},
   "outputs": [
    {
     "data": {
      "text/plain": [
       "0.028714661238095237"
      ]
     },
     "execution_count": 32,
     "metadata": {},
     "output_type": "execute_result"
    }
   ],
   "source": [
    "# variance = square of std. so\n",
    "σ2=0.16945400921222029**2\n",
    "σ2                              # this is varience or σ2"
   ]
  },
  {
   "cell_type": "markdown",
   "id": "c323ce51",
   "metadata": {},
   "source": [
    "*****"
   ]
  },
  {
   "cell_type": "markdown",
   "id": "1c5050b4",
   "metadata": {},
   "source": [
    "* \n",
    "4.AT&T was running commercials in 1990 aimed at luring back customers who had switched to one of the other long-distance phone service providers. One such commercial shows a businessman trying to reach Phoenix and mistakenly getting Fiji, where a half-naked native on a beach responds incomprehensibly in Polynesian. When asked about this advertisement, AT&T admitted that the portrayed incident did not actually take place but added that this was an enactment of something that “could happen.” Suppose that one in 200 long-distance telephone calls is misdirected. What is the probability that at least one in five attempted telephone calls reaches the wrong number? (Assume independence of attempts.) \n"
   ]
  },
  {
   "cell_type": "code",
   "execution_count": null,
   "id": "54b52f64",
   "metadata": {},
   "outputs": [],
   "source": [
    "#5c1= 5\n",
    "#5c2= 10\n",
    "#5c3=10\n",
    "#5c4=5\n",
    "#5c5=1\n",
    "\n",
    "#200c1=200                                   \n",
    "#200c2=19900\n",
    "#200c3=1313400\n",
    "#200c4=64684950\n",
    "#200c5=2535650040  # this question asked atleast one that's why maximum may by be wrong 5 by 5 so i have calculated all condition \n"
   ]
  },
  {
   "cell_type": "code",
   "execution_count": 1,
   "id": "783021bc",
   "metadata": {},
   "outputs": [
    {
     "data": {
      "text/plain": [
       "0.025510204081632654"
      ]
     },
     "execution_count": 1,
     "metadata": {},
     "output_type": "execute_result"
    }
   ],
   "source": [
    "#(5c1/200c1)+(5c2/200c2)+(5c3/200c3)+(5c4/200c4)+(5c5/200c5)\n",
    "\n",
    "(5/200)+(10/19900)+(10/1313400)+(5/64684950)+(1/2535650040)  # from every five calls one call would  wrong probablity "
   ]
  },
  {
   "cell_type": "code",
   "execution_count": null,
   "id": "e7212891",
   "metadata": {},
   "outputs": [],
   "source": []
  },
  {
   "cell_type": "markdown",
   "id": "fc0c4c9a",
   "metadata": {},
   "source": [
    "1.The time required for servicing transmissions is normally distributed with  = 45 minutes and  = 8 minutes. The service manager plans to have work begin on the transmission of a customer’s car 10 minutes after the car is dropped off and the customer is told that the car will be ready within 1 hour from drop-off. What is the probability that the service manager cannot meet his commitment? \n",
    "\n",
    "A.0.3875   \n",
    "B.0.2676   \n",
    "C.0.5   \n",
    "0.6987 "
   ]
  },
  {
   "cell_type": "code",
   "execution_count": 2,
   "id": "73cab7b9",
   "metadata": {},
   "outputs": [
    {
     "data": {
      "text/plain": [
       "0.26598552904870054"
      ]
     },
     "execution_count": 2,
     "metadata": {},
     "output_type": "execute_result"
    }
   ],
   "source": [
    "from scipy import stats\n",
    "1-stats.norm.cdf(60,55,8) # average time is= 45 but he aleadry late 10 minutes so 45+10  \n",
    "                           # probability manager can't meet his time is "
   ]
  },
  {
   "cell_type": "markdown",
   "id": "1de47375",
   "metadata": {},
   "source": [
    "****"
   ]
  },
  {
   "cell_type": "markdown",
   "id": "460ff462",
   "metadata": {},
   "source": [
    "* 2.The current age (in years) of 400 clerical employees at an insurance claims processing center is normally distributed with mean  = 38 and Standard deviation  =6. For each statement below, please specify True/False. If false, briefly explain why.\n",
    "\n",
    "A.More employees at the processing center are older than 44 than between 38 and 44.\n",
    "\n",
    "B.A training program for employees under the age of 30 at the center would be expected to attract about 36 employees."
   ]
  },
  {
   "cell_type": "code",
   "execution_count": 3,
   "id": "0df2b2e6",
   "metadata": {},
   "outputs": [
    {
     "data": {
      "text/plain": [
       "0.15865525393145707"
      ]
     },
     "execution_count": 3,
     "metadata": {},
     "output_type": "execute_result"
    }
   ],
   "source": [
    "N=400\n",
    "µ=30\n",
    "σ =6\n",
    "\n",
    "from scipy import stats\n",
    "1-stats.norm.cdf(44,38,6)  #employees>44"
   ]
  },
  {
   "cell_type": "code",
   "execution_count": 5,
   "id": "d97eb5d4",
   "metadata": {},
   "outputs": [],
   "source": [
    "# 0.15865525393145707*400≈63   \n"
   ]
  },
  {
   "cell_type": "code",
   "execution_count": 6,
   "id": "898525f1",
   "metadata": {},
   "outputs": [
    {
     "data": {
      "text/plain": [
       "0.3413447460685429"
      ]
     },
     "execution_count": 6,
     "metadata": {},
     "output_type": "execute_result"
    }
   ],
   "source": [
    "stats.norm.cdf(44,38,6)-stats.norm.cdf(38,38,6)  #  38<employees<44"
   ]
  },
  {
   "cell_type": "markdown",
   "id": "12bfc853",
   "metadata": {},
   "source": [
    "#0.3413447460685429*400 ≈136 \n",
    "* statment A is wrong  because between 44, 38 age more employees come than age 44 above age emploayees"
   ]
  },
  {
   "cell_type": "code",
   "execution_count": 8,
   "id": "d98aa916",
   "metadata": {},
   "outputs": [
    {
     "data": {
      "text/plain": [
       "0.09121121972586788"
      ]
     },
     "execution_count": 8,
     "metadata": {},
     "output_type": "execute_result"
    }
   ],
   "source": [
    "stats.norm.cdf(30,38,6)\n",
    "\n"
   ]
  },
  {
   "cell_type": "markdown",
   "id": "c3280dda",
   "metadata": {},
   "source": [
    "#0.09121121972586788*400≈36\n",
    "* statment B is correct , because statment  is saying that traing employees is under 30 age but\n",
    "expected is 36 we have calculated same result."
   ]
  },
  {
   "cell_type": "markdown",
   "id": "e55abf7e",
   "metadata": {},
   "source": [
    "****"
   ]
  },
  {
   "cell_type": "markdown",
   "id": "c400e857",
   "metadata": {},
   "source": [
    "* 4.Let X ~ N(100, 20**2). Find two values, a and b, symmetric about the mean, such that the probability of the random variable taking a value between them is 0.99. \n"
   ]
  },
  {
   "cell_type": "code",
   "execution_count": 9,
   "id": "86ffd262",
   "metadata": {},
   "outputs": [
    {
     "name": "stdout",
     "output_type": "stream",
     "text": [
      "48.483413929021985 , 151.516586070978\n"
     ]
    }
   ],
   "source": [
    "from scipy import stats \n",
    "#stats.norm.ppf(0.995,u,sigma)\n",
    "print(stats.norm.ppf(0.005,100,20),',',stats.norm.ppf(0.995,100,20))  # a and b is range value so we have calculted range"
   ]
  },
  {
   "cell_type": "markdown",
   "id": "4a2f84d3",
   "metadata": {},
   "source": [
    "*****************"
   ]
  },
  {
   "cell_type": "markdown",
   "id": "ee927177",
   "metadata": {},
   "source": [
    "*5.Consider a company that has two different divisions. The annual profits from the two divisions are independent and have distributions Profit1 ~ N(5, 3**2) and Profit2 ~ N(7, 4**2) respectively. Both the profits are in $ Million. Answer the following questions about the total profit of the company in Rupees. Assume that $1 = Rs. 45\n",
    "\n",
    "A.Specify a Rupee range (centered on the mean) such that it contains 95% probability for the annual profit of the company.\n",
    "\n",
    "B.Specify the 5th percentile of profit (in Rupees) for the company\n",
    "\n",
    "C.Which of the two divisions has a larger probability of making a loss in a given year?"
   ]
  },
  {
   "cell_type": "code",
   "execution_count": 10,
   "id": "48bc6658",
   "metadata": {},
   "outputs": [
    {
     "data": {
      "text/plain": [
       "(99.00810347848784, 980.9918965215122)"
      ]
     },
     "execution_count": 10,
     "metadata": {},
     "output_type": "execute_result"
    }
   ],
   "source": [
    "from scipy import stats\n",
    "stats.norm.interval(0.95,12*45,5*45)"
   ]
  },
  {
   "cell_type": "markdown",
   "id": "09d3d358",
   "metadata": {},
   "source": [
    "* profit range = (99 Million,981 Million)"
   ]
  },
  {
   "cell_type": "code",
   "execution_count": 11,
   "id": "132f9ed8",
   "metadata": {},
   "outputs": [
    {
     "data": {
      "text/plain": [
       "169.9079339359186"
      ]
     },
     "execution_count": 11,
     "metadata": {},
     "output_type": "execute_result"
    }
   ],
   "source": [
    "stats.norm.ppf(0.05,12*45,5*45)"
   ]
  },
  {
   "cell_type": "markdown",
   "id": "15a2471d",
   "metadata": {},
   "source": [
    "* 5th percentile profit= 170 Million\n",
    "\n",
    "* Which of the two divisions has a larger probability of making a loss in a given year?\n",
    "\n",
    "* which part give more profit less probility of loss\n",
    "so first part loss probability> second part probability "
   ]
  }
 ],
 "metadata": {
  "kernelspec": {
   "display_name": "Python 3 (ipykernel)",
   "language": "python",
   "name": "python3"
  },
  "language_info": {
   "codemirror_mode": {
    "name": "ipython",
    "version": 3
   },
   "file_extension": ".py",
   "mimetype": "text/x-python",
   "name": "python",
   "nbconvert_exporter": "python",
   "pygments_lexer": "ipython3",
   "version": "3.7.4"
  }
 },
 "nbformat": 4,
 "nbformat_minor": 5
}
